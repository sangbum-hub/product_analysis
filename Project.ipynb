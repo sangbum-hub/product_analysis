{
 "cells": [
  {
   "cell_type": "code",
   "execution_count": 73,
   "id": "98c53862",
   "metadata": {},
   "outputs": [],
   "source": [
    "import pandas as pd\n",
    "import matplotlib as mpl\n",
    "import matplotlib.pyplot as plt\n",
    "import seaborn as sns\n",
    "import plotly.express as px\n",
    "import scipy.stats as stats\n",
    "\n",
    "mpl.rc('font', family='Malgun Gothic')"
   ]
  },
  {
   "cell_type": "code",
   "execution_count": 2,
   "id": "2149d5d0",
   "metadata": {},
   "outputs": [],
   "source": [
    "master_member = pd.read_csv('master_member.csv')"
   ]
  },
  {
   "cell_type": "code",
   "execution_count": 3,
   "id": "a236023d",
   "metadata": {},
   "outputs": [],
   "source": [
    "master_product = pd.read_csv('master_product.csv')"
   ]
  },
  {
   "cell_type": "code",
   "execution_count": 6,
   "id": "78e7f1af",
   "metadata": {},
   "outputs": [],
   "source": [
    "log_order = pd.read_csv('log_order.csv')"
   ]
  },
  {
   "cell_type": "code",
   "execution_count": 8,
   "id": "f3366460",
   "metadata": {},
   "outputs": [
    {
     "data": {
      "text/plain": [
       "Index(['ID', '나이', '사용가능 적립금', '성별', '주소(동/읍/면)', '최종접속일', '최종주문일', '유입경로',\n",
       "       '유입기기', '회원 가입일', '사업자구분', '회원구분'],\n",
       "      dtype='object')"
      ]
     },
     "execution_count": 8,
     "metadata": {},
     "output_type": "execute_result"
    }
   ],
   "source": [
    "master_member.columns"
   ]
  },
  {
   "cell_type": "code",
   "execution_count": 11,
   "id": "4e354bc5",
   "metadata": {},
   "outputs": [
    {
     "data": {
      "text/plain": [
       "Index(['#', '공급사', '과세/면세', '담기', '매입가', '상품명(기본)', '상품코드', '재입고알림', '제조사',\n",
       "       '카테고리', '판매가', '품절여부', '후기'],\n",
       "      dtype='object')"
      ]
     },
     "execution_count": 11,
     "metadata": {},
     "output_type": "execute_result"
    }
   ],
   "source": [
    "master_product.columns"
   ]
  },
  {
   "cell_type": "code",
   "execution_count": 12,
   "id": "0a1021aa",
   "metadata": {},
   "outputs": [
    {
     "data": {
      "text/plain": [
       "Index(['결제수단', '공급원가', '교환구분', '네이버 포인트', '배송번호', '배송비 정보', '배송시작일', '배송완료일',\n",
       "       '사용한 적립금액', '상품구매금액', '상품명', '상품번호', '상품별 추가할인금액', '수량', '수령인 주소',\n",
       "       '주문 시 회원등급', '주문경로', '주문번호', '주문일시', '주문자ID', '카드사', '쿠폰 할인금액', '판매가',\n",
       "       '품목번호'],\n",
       "      dtype='object')"
      ]
     },
     "execution_count": 12,
     "metadata": {},
     "output_type": "execute_result"
    }
   ],
   "source": [
    "log_order.columns"
   ]
  },
  {
   "cell_type": "code",
   "execution_count": 94,
   "id": "92e04ff5",
   "metadata": {},
   "outputs": [],
   "source": [
    "def func(row):\n",
    "        if row<30:\n",
    "                return '20대'\n",
    "        elif 30<=row<40:\n",
    "                return '30대'\n",
    "        elif 40<=row<50:\n",
    "                return '40대'\n",
    "        elif 50<=row<60:\n",
    "                return '50대'\n",
    "        elif 60<=row<70:\n",
    "                return '60대'\n",
    "        elif 70<=row<80:\n",
    "                return '70대'\n",
    "        elif 80<=row<90:\n",
    "                return '80대'\n",
    "        elif 90<=row:\n",
    "                return '90대'\n",
    "\n",
    "df1 = master_member['나이'].apply(func)"
   ]
  },
  {
   "cell_type": "code",
   "execution_count": 95,
   "id": "63a9ced1",
   "metadata": {
    "scrolled": true
   },
   "outputs": [],
   "source": [
    "df1 = pd.DataFrame(df1.value_counts())"
   ]
  },
  {
   "cell_type": "code",
   "execution_count": 105,
   "id": "6a52d218",
   "metadata": {
    "scrolled": true
   },
   "outputs": [
    {
     "data": {
      "text/plain": [
       "<AxesSubplot:xlabel='나이'>"
      ]
     },
     "execution_count": 105,
     "metadata": {},
     "output_type": "execute_result"
    },
    {
     "data": {
      "image/png": "[encoded data removed]",
      "text/plain": [
       "<Figure size 432x288 with 1 Axes>"
      ]
     },
     "metadata": {
      "needs_background": "light"
     },
     "output_type": "display_data"
    }
   ],
   "source": [
    "sns.barplot(data=df1, x='나이', y=df1.index)"
   ]
  },
  {
   "cell_type": "code",
   "execution_count": 115,
   "id": "815ed64d",
   "metadata": {},
   "outputs": [],
   "source": [
    "def func1(row):\n",
    "        return row.split(' ')[0]\n",
    "\n",
    "df2 = master_member['주소(동/읍/면)'].astype(str).apply(func1)"
   ]
  },
  {
   "cell_type": "code",
   "execution_count": 116,
   "id": "ab6bb57f",
   "metadata": {},
   "outputs": [
    {
     "data": {
      "text/plain": [
       "경기도        1130\n",
       "서울특별시       800\n",
       "nan         634\n",
       "부산광역시       623\n",
       "경상남도        545\n",
       "경상북도        387\n",
       "강원도         316\n",
       "충청남도        302\n",
       "대구광역시       278\n",
       "인천광역시       272\n",
       "충청북도        231\n",
       "전라남도        227\n",
       "전라북도        201\n",
       "대전광역시       172\n",
       "울산광역시       168\n",
       "광주광역시       158\n",
       "제주특별자치도      85\n",
       "세종특별자치시      46\n",
       "Name: 주소(동/읍/면), dtype: int64"
      ]
     },
     "execution_count": 116,
     "metadata": {},
     "output_type": "execute_result"
    }
   ],
   "source": [
    "df2.value_counts()"
   ]
  },
  {
   "cell_type": "code",
   "execution_count": 121,
   "id": "6bfa4dc0",
   "metadata": {},
   "outputs": [],
   "source": [
    "import datetime"
   ]
  },
  {
   "cell_type": "code",
   "execution_count": 130,
   "id": "78622296",
   "metadata": {
    "scrolled": true
   },
   "outputs": [
    {
     "data": {
      "text/plain": [
       "2019    3026\n",
       "2018    1867\n",
       "nan     1422\n",
       "2017     260\n",
       "Name: 최종주문일, dtype: int64"
      ]
     },
     "execution_count": 130,
     "metadata": {},
     "output_type": "execute_result"
    }
   ],
   "source": [
    "def func2(row):\n",
    "        return row.split('-')[0]\n",
    "    \n",
    "master_member['최종주문일'].astype(str).apply(func1).apply(func2).value_counts()"
   ]
  },
  {
   "cell_type": "code",
   "execution_count": 134,
   "id": "0b84ce79",
   "metadata": {},
   "outputs": [
    {
     "data": {
      "text/plain": [
       "2019    3708\n",
       "2018    2468\n",
       "2017     346\n",
       "nan       52\n",
       "2016       1\n",
       "Name: 최종접속일, dtype: int64"
      ]
     },
     "execution_count": 134,
     "metadata": {},
     "output_type": "execute_result"
    }
   ],
   "source": [
    "master_member['최종접속일'].astype(str).apply(func1).apply(func2).value_counts()"
   ]
  },
  {
   "cell_type": "code",
   "execution_count": 132,
   "id": "39cb2229",
   "metadata": {},
   "outputs": [
    {
     "data": {
      "text/plain": [
       "남자    6053\n",
       "여자     522\n",
       "Name: 성별, dtype: int64"
      ]
     },
     "execution_count": 132,
     "metadata": {},
     "output_type": "execute_result"
    }
   ],
   "source": [
    "master_member['성별'].value_counts()"
   ]
  },
  {
   "cell_type": "code",
   "execution_count": 137,
   "id": "bd785e5a",
   "metadata": {},
   "outputs": [
    {
     "data": {
      "text/plain": [
       "PC     3696\n",
       "모바일    2879\n",
       "Name: 유입기기, dtype: int64"
      ]
     },
     "execution_count": 137,
     "metadata": {},
     "output_type": "execute_result"
    }
   ],
   "source": [
    "master_member['유입기기'].value_counts()"
   ]
  },
  {
   "cell_type": "code",
   "execution_count": 138,
   "id": "4114364f",
   "metadata": {
    "scrolled": false
   },
   "outputs": [
    {
     "data": {
      "text/plain": [
       "개인     4039\n",
       "사업자    2534\n",
       "외국인       2\n",
       "Name: 사업자구분, dtype: int64"
      ]
     },
     "execution_count": 138,
     "metadata": {},
     "output_type": "execute_result"
    }
   ],
   "source": [
    "master_member['사업자구분'].value_counts()"
   ]
  },
  {
   "cell_type": "code",
   "execution_count": 140,
   "id": "9e4f4147",
   "metadata": {},
   "outputs": [
    {
     "data": {
      "text/plain": [
       "일반           2575\n",
       "사업자          2160\n",
       "전화주문 고객      1668\n",
       "딜러 유치 회원      132\n",
       "특별회원           15\n",
       "딜러             10\n",
       "일반(수신거부)        6\n",
       "사업자(수신거부)       4\n",
       "관리자             4\n",
       "VIP             1\n",
       "Name: 회원구분, dtype: int64"
      ]
     },
     "execution_count": 140,
     "metadata": {},
     "output_type": "execute_result"
    }
   ],
   "source": [
    "master_member['회원구분'].value_counts()"
   ]
  },
  {
   "cell_type": "code",
   "execution_count": 145,
   "id": "ffef828a",
   "metadata": {},
   "outputs": [
    {
     "data": {
      "text/plain": [
       "패커스        927\n",
       "다이찌롱스토어     69\n",
       "(주)니드코      15\n",
       "다인컴즈         9\n",
       "Name: 공급사, dtype: int64"
      ]
     },
     "execution_count": 145,
     "metadata": {},
     "output_type": "execute_result"
    }
   ],
   "source": [
    "master_product['공급사'].value_counts()"
   ]
  },
  {
   "cell_type": "code",
   "execution_count": 153,
   "id": "7627e9cb",
   "metadata": {
    "scrolled": true
   },
   "outputs": [
    {
     "data": {
      "text/plain": [
       "0        220\n",
       "over5    215\n",
       "1        180\n",
       "5        112\n",
       "3        108\n",
       "2         95\n",
       "4         90\n",
       "Name: 매입가, dtype: int64"
      ]
     },
     "execution_count": 153,
     "metadata": {},
     "output_type": "execute_result"
    }
   ],
   "source": [
    "def func2(row):\n",
    "        if row <10000:\n",
    "                return '0'\n",
    "        elif 10000<= row<20000:\n",
    "                return '1'\n",
    "        elif 20000<= row<30000:\n",
    "                return '2'\n",
    "        elif 30000<= row<40000:\n",
    "                return '3'\n",
    "        elif 40000<= row<50000:\n",
    "                return '4'\n",
    "        elif 50000<= row <60000:\n",
    "                return '5'\n",
    "        else:\n",
    "                return 'over5'\n",
    " \n",
    "master_product['매입가'].apply(func2).value_counts()"
   ]
  },
  {
   "cell_type": "code",
   "execution_count": 156,
   "id": "744ecbf8",
   "metadata": {},
   "outputs": [
    {
     "data": {
      "text/plain": [
       "자체제작           491\n",
       "은진물산            25\n",
       "(주)니드코          15\n",
       "Y-MD-00739       1\n",
       "Y-MD-00739★      1\n",
       "Y-MD-00748       1\n",
       "Name: 제조사, dtype: int64"
      ]
     },
     "execution_count": 156,
     "metadata": {},
     "output_type": "execute_result"
    }
   ],
   "source": [
    "master_product['제조사'].value_counts()"
   ]
  },
  {
   "cell_type": "code",
   "execution_count": 165,
   "id": "4f9204a8",
   "metadata": {},
   "outputs": [
    {
     "data": {
      "text/plain": [
       " 식자재                             472\n",
       " 한식(분식) 용기                       152\n",
       " 주방용품/소모품                        141\n",
       " 베이커리/카페 용기                       72\n",
       " 실링제품                             48\n",
       " NEW                              29\n",
       " 중식 용기                            25\n",
       " 주방용품                             15\n",
       " 소량                               14\n",
       " 실링용기                             11\n",
       " 일식 용기                            10\n",
       " 스티커 제작 > 원형 스티커 > 원형 #1탄 18종      9\n",
       " 농수산물 용기                           7\n",
       " 실링기계                              5\n",
       " vol.4 Catalogue                   3\n",
       " 음식종류별                             3\n",
       " 빨대/커피스틱                           2\n",
       " 중식 용기 > 면/볶음밥용기                   1\n",
       " 임시카테고리                            1\n",
       "Name: 카테고리, dtype: int64"
      ]
     },
     "execution_count": 165,
     "metadata": {},
     "output_type": "execute_result"
    }
   ],
   "source": [
    "def func3(row):\n",
    "        return row.split(':')[1].split('\\n')[0]\n",
    "\n",
    "master_product['카테고리'].apply(func3).value_counts()"
   ]
  },
  {
   "cell_type": "code",
   "execution_count": 168,
   "id": "72646aae",
   "metadata": {},
   "outputs": [
    {
     "data": {
      "text/plain": [
       "over5    353\n",
       "1        173\n",
       "0        166\n",
       "3         96\n",
       "2         91\n",
       "4         72\n",
       "5         69\n",
       "Name: 판매가, dtype: int64"
      ]
     },
     "execution_count": 168,
     "metadata": {},
     "output_type": "execute_result"
    }
   ],
   "source": [
    "master_product['판매가'].apply(func2).value_counts()"
   ]
  },
  {
   "cell_type": "code",
   "execution_count": 172,
   "id": "bc00d35e",
   "metadata": {},
   "outputs": [
    {
     "data": {
      "text/plain": [
       "정상    997\n",
       "품절     23\n",
       "Name: 품절여부, dtype: int64"
      ]
     },
     "execution_count": 172,
     "metadata": {},
     "output_type": "execute_result"
    }
   ],
   "source": [
    "master_product['품절여부'].value_counts()"
   ]
  },
  {
   "cell_type": "code",
   "execution_count": 175,
   "id": "ad5bf516",
   "metadata": {},
   "outputs": [
    {
     "data": {
      "text/plain": [
       "무통장입금                 24171\n",
       "카드                    13703\n",
       "적립금,무통장입금              3374\n",
       "쿠폰,카드                  1306\n",
       "적립금,카드                 1276\n",
       "쿠폰,무통장입금               1204\n",
       "휴대폰                     430\n",
       "실시간계좌이체                 322\n",
       "예치금,무통장입금               175\n",
       "가상계좌                    130\n",
       "카드,무통장입금                100\n",
       "카카오페이(카드)                77\n",
       "쿠폰,휴대폰                   67\n",
       "페이나우(카드)                 50\n",
       "예치금,적립금,무통장입금            47\n",
       "적립금,휴대폰                  37\n",
       "적립금,가상계좌                 30\n",
       "예치금,카드                   28\n",
       "예치금                      25\n",
       "카카오페이(카카오머니)             22\n",
       "페이나우(실시간 계좌이체)           21\n",
       "에스크로(실시간계좌이체)            20\n",
       "적립금                      16\n",
       "쿠폰,카카오페이(카드)             16\n",
       "쿠폰,카드,무통장입금              13\n",
       "쿠폰,페이나우(카드)              11\n",
       "무통장입금,휴대폰                 9\n",
       "적립금,페이나우(카드)              9\n",
       "예치금,적립금,카드                8\n",
       "적립금,카카오페이(카드)             7\n",
       "쿠폰,에스크로(실시간계좌이체)          6\n",
       "적립금,실시간계좌이체               6\n",
       "예치금,쿠폰,무통장입금              6\n",
       "예치금,휴대폰                   5\n",
       "쿠폰,가상계좌                   4\n",
       "예치금,쿠폰,카드                 4\n",
       "적립금,카카오페이(카카오머니)          3\n",
       "적립금,페이나우(실시간 계좌이체)        3\n",
       "적립금,카드,무통장입금              2\n",
       "무통장입금,실시간계좌이체             2\n",
       "에스크로(가상계좌)                1\n",
       "쿠폰,예치금                    1\n",
       "페이나우(카드),무통장입금            1\n",
       "예치금,실시간계좌이체               1\n",
       "Name: 결제수단, dtype: int64"
      ]
     },
     "execution_count": 175,
     "metadata": {},
     "output_type": "execute_result"
    }
   ],
   "source": [
    "log_order['결제수단'].value_counts()"
   ]
  },
  {
   "cell_type": "code",
   "execution_count": 177,
   "id": "82c6e173",
   "metadata": {},
   "outputs": [
    {
     "data": {
      "text/plain": [
       "4        12389\n",
       "over5     8108\n",
       "0         7802\n",
       "5         6522\n",
       "3         6144\n",
       "2         3118\n",
       "1         2666\n",
       "Name: 공급원가, dtype: int64"
      ]
     },
     "execution_count": 177,
     "metadata": {},
     "output_type": "execute_result"
    }
   ],
   "source": [
    "log_order['공급원가'].apply(func2).value_counts()"
   ]
  },
  {
   "cell_type": "code",
   "execution_count": 197,
   "id": "d57d10c5",
   "metadata": {},
   "outputs": [
    {
     "data": {
      "text/plain": [
       "over5    25829\n",
       "0         9549\n",
       "5         5799\n",
       "4         2067\n",
       "3         1428\n",
       "1         1423\n",
       "2          654\n",
       "Name: 판매가, dtype: int64"
      ]
     },
     "execution_count": 197,
     "metadata": {},
     "output_type": "execute_result"
    }
   ],
   "source": [
    "log_order['판매가'].apply(func2).value_counts()"
   ]
  },
  {
   "cell_type": "code",
   "execution_count": 180,
   "id": "4b0120cf",
   "metadata": {},
   "outputs": [
    {
     "data": {
      "text/plain": [
       "무료    46319\n",
       "선불      304\n",
       "착불      126\n",
       "Name: 배송비 정보, dtype: int64"
      ]
     },
     "execution_count": 180,
     "metadata": {},
     "output_type": "execute_result"
    }
   ],
   "source": [
    "log_order['배송비 정보'].value_counts()"
   ]
  },
  {
   "cell_type": "code",
   "execution_count": 182,
   "id": "4aff7ce6",
   "metadata": {},
   "outputs": [
    {
     "data": {
      "text/html": [
       "<div>\n",
       "<style scoped>\n",
       "    .dataframe tbody tr th:only-of-type {\n",
       "        vertical-align: middle;\n",
       "    }\n",
       "\n",
       "    .dataframe tbody tr th {\n",
       "        vertical-align: top;\n",
       "    }\n",
       "\n",
       "    .dataframe thead th {\n",
       "        text-align: right;\n",
       "    }\n",
       "</style>\n",
       "<table border=\"1\" class=\"dataframe\">\n",
       "  <thead>\n",
       "    <tr style=\"text-align: right;\">\n",
       "      <th></th>\n",
       "      <th>주문일시</th>\n",
       "      <th>배송시작일</th>\n",
       "      <th>배송완료일</th>\n",
       "    </tr>\n",
       "  </thead>\n",
       "  <tbody>\n",
       "    <tr>\n",
       "      <th>0</th>\n",
       "      <td>2018-12-27 오후 2:54</td>\n",
       "      <td>2019-01-07 오전 8:56</td>\n",
       "      <td>2019-01-11 오전 5:32</td>\n",
       "    </tr>\n",
       "    <tr>\n",
       "      <th>1</th>\n",
       "      <td>2018-12-29 오후 1:22</td>\n",
       "      <td>2019-01-03 오전 9:30</td>\n",
       "      <td>2019-01-07 오전 5:32</td>\n",
       "    </tr>\n",
       "    <tr>\n",
       "      <th>2</th>\n",
       "      <td>2018-12-30 오후 3:15</td>\n",
       "      <td>2019-01-03 오전 9:30</td>\n",
       "      <td>2019-01-07 오전 5:32</td>\n",
       "    </tr>\n",
       "    <tr>\n",
       "      <th>3</th>\n",
       "      <td>2018-12-31 오전 10:30</td>\n",
       "      <td>2019-01-03 오전 9:30</td>\n",
       "      <td>2019-01-07 오전 5:32</td>\n",
       "    </tr>\n",
       "    <tr>\n",
       "      <th>4</th>\n",
       "      <td>2018-12-31 오전 10:43</td>\n",
       "      <td>2019-01-07 오전 8:56</td>\n",
       "      <td>2019-01-11 오전 5:32</td>\n",
       "    </tr>\n",
       "    <tr>\n",
       "      <th>...</th>\n",
       "      <td>...</td>\n",
       "      <td>...</td>\n",
       "      <td>...</td>\n",
       "    </tr>\n",
       "    <tr>\n",
       "      <th>46744</th>\n",
       "      <td>2017-12-29 오후 1:39</td>\n",
       "      <td>2017-12-29 오후 4:32</td>\n",
       "      <td>2018-01-02 오전 5:31</td>\n",
       "    </tr>\n",
       "    <tr>\n",
       "      <th>46745</th>\n",
       "      <td>2017-12-29 오후 5:16</td>\n",
       "      <td>2018-01-03 오전 9:45</td>\n",
       "      <td>2018-01-07 오전 5:38</td>\n",
       "    </tr>\n",
       "    <tr>\n",
       "      <th>46746</th>\n",
       "      <td>2017-12-30 오후 6:56</td>\n",
       "      <td>2018-01-02 오후 7:06</td>\n",
       "      <td>2018-01-11 오전 2:46</td>\n",
       "    </tr>\n",
       "    <tr>\n",
       "      <th>46747</th>\n",
       "      <td>2017-12-31 오전 10:00</td>\n",
       "      <td>2018-01-03 오후 2:00</td>\n",
       "      <td>2018-01-06 오후 6:06</td>\n",
       "    </tr>\n",
       "    <tr>\n",
       "      <th>46748</th>\n",
       "      <td>2017-12-31 오후 6:15</td>\n",
       "      <td>2018-01-03 오후 12:43</td>\n",
       "      <td>2018-01-07 오전 5:38</td>\n",
       "    </tr>\n",
       "  </tbody>\n",
       "</table>\n",
       "<p>46749 rows × 3 columns</p>\n",
       "</div>"
      ],
      "text/plain": [
       "                      주문일시                배송시작일               배송완료일\n",
       "0       2018-12-27 오후 2:54   2019-01-07 오전 8:56  2019-01-11 오전 5:32\n",
       "1       2018-12-29 오후 1:22   2019-01-03 오전 9:30  2019-01-07 오전 5:32\n",
       "2       2018-12-30 오후 3:15   2019-01-03 오전 9:30  2019-01-07 오전 5:32\n",
       "3      2018-12-31 오전 10:30   2019-01-03 오전 9:30  2019-01-07 오전 5:32\n",
       "4      2018-12-31 오전 10:43   2019-01-07 오전 8:56  2019-01-11 오전 5:32\n",
       "...                    ...                  ...                 ...\n",
       "46744   2017-12-29 오후 1:39   2017-12-29 오후 4:32  2018-01-02 오전 5:31\n",
       "46745   2017-12-29 오후 5:16   2018-01-03 오전 9:45  2018-01-07 오전 5:38\n",
       "46746   2017-12-30 오후 6:56   2018-01-02 오후 7:06  2018-01-11 오전 2:46\n",
       "46747  2017-12-31 오전 10:00   2018-01-03 오후 2:00  2018-01-06 오후 6:06\n",
       "46748   2017-12-31 오후 6:15  2018-01-03 오후 12:43  2018-01-07 오전 5:38\n",
       "\n",
       "[46749 rows x 3 columns]"
      ]
     },
     "execution_count": 182,
     "metadata": {},
     "output_type": "execute_result"
    }
   ],
   "source": [
    "log_order[['주문일시','배송시작일','배송완료일']]"
   ]
  },
  {
   "cell_type": "code",
   "execution_count": 188,
   "id": "d4578a1d",
   "metadata": {},
   "outputs": [
    {
     "data": {
      "text/plain": [
       "경기도        8349\n",
       "서울특별시      5505\n",
       "부산광역시      5248\n",
       "경상남도       4823\n",
       "경상북도       2997\n",
       "대구광역시      2442\n",
       "강원도        2221\n",
       "충청남도       2189\n",
       "충청북도       1962\n",
       "인천광역시      1930\n",
       "대전광역시      1840\n",
       "전라북도       1822\n",
       "울산광역시      1567\n",
       "전라남도       1474\n",
       "광주광역시      1406\n",
       "제주특별자치도     527\n",
       "세종특별자치시     353\n",
       "경기           57\n",
       "광주            9\n",
       "nan           8\n",
       "서울            7\n",
       "충북            4\n",
       "경남            3\n",
       "인천            2\n",
       "부산            2\n",
       "강원            1\n",
       "경북            1\n",
       "Name: 수령인 주소, dtype: int64"
      ]
     },
     "execution_count": 188,
     "metadata": {},
     "output_type": "execute_result"
    }
   ],
   "source": [
    "log_order['수령인 주소'].astype(str).apply(func1).value_counts()"
   ]
  },
  {
   "cell_type": "code",
   "execution_count": 191,
   "id": "4f2b580d",
   "metadata": {},
   "outputs": [
    {
     "data": {
      "text/plain": [
       "PC쇼핑몰     25695\n",
       "모바일웹      18531\n",
       "네이버 페이     2523\n",
       "Name: 주문경로, dtype: int64"
      ]
     },
     "execution_count": 191,
     "metadata": {},
     "output_type": "execute_result"
    }
   ],
   "source": [
    "log_order['주문경로'].value_counts()"
   ]
  },
  {
   "cell_type": "code",
   "execution_count": 194,
   "id": "4145d702",
   "metadata": {},
   "outputs": [
    {
     "data": {
      "text/plain": [
       "삼성               3168\n",
       "신한(구.LG카드 포함)    3024\n",
       "현대               2219\n",
       "비씨               1887\n",
       "기타               1867\n",
       "국민               1474\n",
       "NH (농협)          1116\n",
       "롯데                910\n",
       "하나SK              350\n",
       "외환                236\n",
       "씨티                165\n",
       "카카오뱅크              70\n",
       "광주                 39\n",
       "신한                 29\n",
       "신협                 21\n",
       "전북                 17\n",
       "제주                 11\n",
       "수협                  5\n",
       "국내아멕스               3\n",
       "Name: 카드사, dtype: int64"
      ]
     },
     "execution_count": 194,
     "metadata": {},
     "output_type": "execute_result"
    }
   ],
   "source": [
    "log_order['카드사'].value_counts()"
   ]
  },
  {
   "cell_type": "code",
   "execution_count": null,
   "id": "427cced0",
   "metadata": {},
   "outputs": [],
   "source": []
  },
  {
   "cell_type": "code",
   "execution_count": null,
   "id": "b9be11ad",
   "metadata": {},
   "outputs": [],
   "source": []
  }
 ],
 "metadata": {
  "kernelspec": {
   "display_name": "Python 3 (ipykernel)",
   "language": "python",
   "name": "python3"
  },
  "language_info": {
   "codemirror_mode": {
    "name": "ipython",
    "version": 3
   },
   "file_extension": ".py",
   "mimetype": "text/x-python",
   "name": "python",
   "nbconvert_exporter": "python",
   "pygments_lexer": "ipython3",
   "version": "3.9.7"
  }
 },
 "nbformat": 4,
 "nbformat_minor": 5
}
